{
 "cells": [
  {
   "cell_type": "markdown",
   "metadata": {},
   "source": [
    "# Pokemon Image Classification"
   ]
  },
  {
   "cell_type": "markdown",
   "metadata": {},
   "source": [
    "### Preprocessing Image Data"
   ]
  },
  {
   "cell_type": "code",
   "execution_count": 8,
   "metadata": {},
   "outputs": [
    {
     "name": "stdout",
     "output_type": "stream",
     "text": [
      "Images have been successfully split and saved from all PDFs.\n"
     ]
    }
   ],
   "source": [
    "import fitz  # PyMuPDF\n",
    "import cv2\n",
    "import numpy as np\n",
    "import os\n",
    "\n",
    "# Directory paths\n",
    "pdf_dir = 'img'\n",
    "output_dir = 'output_images'\n",
    "\n",
    "# Create output directory if it doesn't exist\n",
    "if not os.path.exists(output_dir):\n",
    "    os.makedirs(output_dir)\n",
    "\n",
    "# Function to dynamically trim the left side\n",
    "def trim_left_side(image):\n",
    "    # Convert to grayscale\n",
    "    gray = cv2.cvtColor(image, cv2.COLOR_BGR2GRAY)\n",
    "    \n",
    "    # Apply edge detection\n",
    "    edges = cv2.Canny(gray, 50, 150)\n",
    "\n",
    "    # Find contours\n",
    "    contours, _ = cv2.findContours(edges, cv2.RETR_EXTERNAL, cv2.CHAIN_APPROX_SIMPLE)\n",
    "\n",
    "    # Find the leftmost contour point\n",
    "    min_x = image.shape[1]  # Initialize with the max possible width\n",
    "    for contour in contours:\n",
    "        x, y, w, h = cv2.boundingRect(contour)\n",
    "        if x < min_x:\n",
    "            min_x = x\n",
    "    \n",
    "    # Add a small margin to min_x\n",
    "    margin = 10\n",
    "    trim_x = min_x + margin\n",
    "\n",
    "    # Trim the image\n",
    "    trimmed_image = image[:, trim_x:]\n",
    "    return trimmed_image\n",
    "\n",
    "# Iterate through each PDF file in the directory\n",
    "for pdf_file in os.listdir(pdf_dir):\n",
    "    if pdf_file.endswith('.pdf'):\n",
    "        pdf_path = os.path.join(pdf_dir, pdf_file)\n",
    "\n",
    "        # Open the PDF file\n",
    "        pdf_document = fitz.open(pdf_path)\n",
    "\n",
    "        # Iterate through each page in the PDF\n",
    "        for page_num in range(len(pdf_document)):\n",
    "            # Get the page\n",
    "            page = pdf_document.load_page(page_num)\n",
    "\n",
    "            # Convert the page to an image using PyMuPDF\n",
    "            pix = page.get_pixmap()\n",
    "            img = np.frombuffer(pix.samples, dtype=np.uint8).reshape(pix.height, pix.width, pix.n)\n",
    "            img = cv2.cvtColor(img, cv2.COLOR_RGB2BGR)\n",
    "\n",
    "            # Trim the left side dynamically\n",
    "            img_trimmed = trim_left_side(img)\n",
    "\n",
    "            # Get trimmed image dimensions\n",
    "            img_height, img_width, _ = img_trimmed.shape\n",
    "\n",
    "            # Define the dimensions of each smaller image\n",
    "            card_width = img_width // 3\n",
    "            card_height = img_height // 3\n",
    "\n",
    "            # Split the image into 9 individual images\n",
    "            cards = []\n",
    "            for row in range(3):\n",
    "                for col in range(3):\n",
    "                    left = col * card_width\n",
    "                    upper = row * card_height\n",
    "                    right = left + card_width\n",
    "                    lower = upper + card_height\n",
    "                    card = img_trimmed[upper:lower, left:right]\n",
    "                    cards.append(card)\n",
    "\n",
    "            # Save each individual image\n",
    "            base_filename = os.path.splitext(pdf_file)[0]\n",
    "            for idx, card in enumerate(cards):\n",
    "                output_filename = f'{output_dir}/{base_filename}_page_{page_num + 1}_card_{idx + 1}.png'\n",
    "                cv2.imwrite(output_filename, card)\n",
    "\n",
    "print(\"Images have been successfully split and saved from all PDFs.\")\n"
   ]
  },
  {
   "cell_type": "markdown",
   "metadata": {},
   "source": [
    "### Pokémon TCG API"
   ]
  },
  {
   "cell_type": "code",
   "execution_count": 6,
   "metadata": {},
   "outputs": [],
   "source": [
    "# Load .env file for Pokémon TCG API\n",
    "from dotenv import load_dotenv\n",
    "from pokemontcgsdk import Card\n",
    "from pokemontcgsdk import Set\n",
    "from pokemontcgsdk import Type\n",
    "from pokemontcgsdk import Supertype\n",
    "from pokemontcgsdk import Subtype\n",
    "from pokemontcgsdk import Rarity\n",
    "import json\n",
    "\n",
    "load_dotenv()\n",
    "\n",
    "cards = Card.all()\n",
    "\n",
    "# Convert the list of card objects to a list of dictionaries\n",
    "cards_dict = [card.__dict__ for card in cards]\n",
    "\n",
    "# Custom serialization function\n",
    "def custom_serializer(obj):\n",
    "    if hasattr(obj, '__dict__'):\n",
    "        return obj.__dict__\n",
    "    else:\n",
    "        return str(obj)\n",
    "\n",
    "# Open the file in write mode and dump the JSON data\n",
    "with open(\"data/all_cards.json\", \"w\") as file:\n",
    "    json.dump(cards_dict, file, default=custom_serializer)"
   ]
  },
  {
   "cell_type": "code",
   "execution_count": 2,
   "metadata": {},
   "outputs": [
    {
     "name": "stdout",
     "output_type": "stream",
     "text": [
      "Images have been successfully converted and saved from one.pdf.\n"
     ]
    }
   ],
   "source": [
    "import fitz  # PyMuPDF\n",
    "import cv2\n",
    "import numpy as np\n",
    "import os\n",
    "\n",
    "# File paths\n",
    "pdf_file = 'img/two.pdf'\n",
    "output_dir = 'output_images'\n",
    "\n",
    "# Create output directory if it doesn't exist\n",
    "if not os.path.exists(output_dir):\n",
    "    os.makedirs(output_dir)\n",
    "\n",
    "# Open the PDF file\n",
    "pdf_document = fitz.open(pdf_file)\n",
    "\n",
    "# Iterate through each page in the PDF\n",
    "for page_num in range(len(pdf_document)):\n",
    "    # Get the page\n",
    "    page = pdf_document.load_page(page_num)\n",
    "\n",
    "    # Convert the page to an image using PyMuPDF\n",
    "    pix = page.get_pixmap()\n",
    "    img = np.frombuffer(pix.samples, dtype=np.uint8).reshape(pix.height, pix.width, pix.n)\n",
    "    img = cv2.cvtColor(img, cv2.COLOR_RGB2BGR)\n",
    "\n",
    "    # Save the image\n",
    "    output_filename = f'{output_dir}/one_page_{page_num + 1}.png'\n",
    "    cv2.imwrite(output_filename, img)\n",
    "\n",
    "print(\"Images have been successfully converted and saved from one.pdf.\")"
   ]
  }
 ],
 "metadata": {
  "kernelspec": {
   "display_name": "Python 3",
   "language": "python",
   "name": "python3"
  },
  "language_info": {
   "codemirror_mode": {
    "name": "ipython",
    "version": 3
   },
   "file_extension": ".py",
   "mimetype": "text/x-python",
   "name": "python",
   "nbconvert_exporter": "python",
   "pygments_lexer": "ipython3",
   "version": "3.10.11"
  }
 },
 "nbformat": 4,
 "nbformat_minor": 2
}
